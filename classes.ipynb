{
 "cells": [
  {
   "cell_type": "code",
   "execution_count": null,
   "metadata": {},
   "outputs": [],
   "source": [
    "# Class\n",
    "class Bicicleta:\n",
    "    def __init__(self, cor, modelo, ano, valor):\n",
    "        self.cor = cor\n",
    "        self.modelo = modelo\n",
    "        self.ano = ano\n",
    "        self.valor = valor\n",
    "        \n",
    "    def buzinar(self):\n",
    "        print(\"Plim, Plim....\")\n",
    "        \n",
    "    def freiar(self):\n",
    "        print(\"Freiando...\")\n",
    "        \n",
    "    def acelerar(self):\n",
    "        print(\"Acelerando...\")\n",
    "        \n",
    "    def __str__(self):\n",
    "        return f\"{self.__class__.__name__}: {', '.join([f'{chave}={valor}' for chave, valor in self.__dict__.items()])}\"\n",
    "        \n",
    "bike1 = Bicicleta('Preto', 'Monark 420', 2019, 3.999)\n",
    "bike2 = Bicicleta('Azul','Caloi 2000', 2011, 9.999)\n",
    "\n",
    "print(bike1)"
   ]
  },
  {
   "cell_type": "code",
   "execution_count": 12,
   "metadata": {},
   "outputs": [
    {
     "name": "stdout",
     "output_type": "stream",
     "text": [
      "Leao: cor_pelo=Dourado, patas=2\n"
     ]
    }
   ],
   "source": [
    "# Class herança\n",
    "\n",
    "class Animal:\n",
    "    def __init__(self, nro_patas):\n",
    "        self.patas = nro_patas\n",
    "        \n",
    "    def __str__(self):\n",
    "        return f\"{self.__class__.__name__}: {', '.join([f'{chave}={valor}' for chave, valor in self.__dict__.items()])}\"\n",
    "    \n",
    "class Mamifero(Animal):\n",
    "    def __init__(self, cor_pelo, **kw):\n",
    "        self.cor_pelo = cor_pelo\n",
    "        super().__init__(**kw)\n",
    "        \n",
    "class Ave(Animal):\n",
    "    def __init__(self, cor_bico, **kw):\n",
    "        self.cor_bico = cor_bico\n",
    "        super().__init__(**kw)\n",
    "    \n",
    "class Leao(Mamifero):\n",
    "    ... \n",
    "    \n",
    "class Ornitorrinco(Ave, Mamifero):\n",
    "    ...\n",
    "    \n",
    "leon = Leao(nro_patas=2, cor_pelo='Dourado')\n",
    "print(leon)"
   ]
  }
 ],
 "metadata": {
  "kernelspec": {
   "display_name": "Python 3",
   "language": "python",
   "name": "python3"
  },
  "language_info": {
   "codemirror_mode": {
    "name": "ipython",
    "version": 3
   },
   "file_extension": ".py",
   "mimetype": "text/x-python",
   "name": "python",
   "nbconvert_exporter": "python",
   "pygments_lexer": "ipython3",
   "version": "3.12.4"
  }
 },
 "nbformat": 4,
 "nbformat_minor": 2
}
